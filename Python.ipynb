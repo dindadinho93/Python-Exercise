{
  "nbformat": 4,
  "nbformat_minor": 0,
  "metadata": {
    "colab": {
      "provenance": [],
      "authorship_tag": "ABX9TyNtOOCV3dJFRUjadHvhJnhj",
      "include_colab_link": true
    },
    "kernelspec": {
      "name": "python3",
      "display_name": "Python 3"
    },
    "language_info": {
      "name": "python"
    }
  },
  "cells": [
    {
      "cell_type": "markdown",
      "metadata": {
        "id": "view-in-github",
        "colab_type": "text"
      },
      "source": [
        "<a href=\"https://colab.research.google.com/github/dindadinho93/Python-Exercise/blob/main/Python.ipynb\" target=\"_parent\"><img src=\"https://colab.research.google.com/assets/colab-badge.svg\" alt=\"Open In Colab\"/></a>"
      ]
    },
    {
      "cell_type": "markdown",
      "source": [
        "# **Timer**"
      ],
      "metadata": {
        "id": "1BLBckGfa-UD"
      }
    },
    {
      "cell_type": "code",
      "execution_count": null,
      "metadata": {
        "colab": {
          "base_uri": "https://localhost:8080/"
        },
        "id": "qMnfcGC7Yh0a",
        "outputId": "dc2c6897-b232-4b57-e499-2ccd6364d04c"
      },
      "outputs": [
        {
          "output_type": "stream",
          "name": "stdout",
          "text": [
            "Set your timer in sec : 10\n",
            "stop\n",
            "stop\n",
            "stop\n",
            "stop\n",
            "stop\n",
            "stop\n",
            "stop\n",
            "stop\n",
            "stop\n",
            "stop\n"
          ]
        }
      ],
      "source": [
        "import time\n",
        "\n",
        "def countdown(time_sec):\n",
        "  while time_sec:\n",
        "    mins, secs = divmod(time_sec, 60)\n",
        "    timeformat = '{:02d}:{:02d}'.format(mins, secs)\n",
        "    print(timeformat, end='\\r')\n",
        "    time.sleep(1)\n",
        "    time_sec -= 1\n",
        "\n",
        "    print('stop')\n",
        "\n",
        "num = int(input('Set your timer in sec : '))\n",
        "countdown(num)"
      ]
    },
    {
      "cell_type": "markdown",
      "source": [
        "# Get Kode Pos"
      ],
      "metadata": {
        "id": "qC5SvvB3eeR8"
      }
    },
    {
      "cell_type": "code",
      "source": [
        "from geopy.geocoders import Nominatim\n",
        "\n",
        "geolocator = Nominatim(user_agent = 'geoapiExcercises')\n",
        "\n",
        "a = input('Enter Kode pos : ')\n",
        "zipcode = a\n",
        "\n",
        "location = geolocator.geocode(zipcode)\n",
        "\n",
        "print('Kode pos', zipcode)\n",
        "print('Lokasi ', location)"
      ],
      "metadata": {
        "colab": {
          "base_uri": "https://localhost:8080/"
        },
        "id": "zicMK4woa3e5",
        "outputId": "200ba0b9-0dbc-45a6-cb07-68c2a44ea176"
      },
      "execution_count": null,
      "outputs": [
        {
          "output_type": "stream",
          "name": "stdout",
          "text": [
            "Enter Kode pos : 61219\n",
            "Kode pos 61219\n",
            "Lokasi  Sidoarjo, Jawa Timur, 61219, Indonesia\n"
          ]
        }
      ]
    },
    {
      "cell_type": "markdown",
      "source": [
        "# MAKE CAPTCHA"
      ],
      "metadata": {
        "id": "IYVGdZaZPIoB"
      }
    },
    {
      "cell_type": "code",
      "source": [
        "from captcha.image import ImageCaptcha\n",
        "\n",
        "image = ImageCaptcha(width = 300, height=100)\n",
        "\n",
        "captcha_text = input('Enter captcha text : ')\n",
        "data = image.generate(captcha_text)\n",
        "\n",
        "image.write(captcha_text, 'D:\\captcha1.png')\n",
        "from PIL import Image\n",
        "Image.open('D:\\captcha1.png')"
      ],
      "metadata": {
        "colab": {
          "base_uri": "https://localhost:8080/",
          "height": 134
        },
        "id": "PzpliMtNejJd",
        "outputId": "67e19a50-7d0e-4eba-e0db-82c64a2a1262"
      },
      "execution_count": null,
      "outputs": [
        {
          "name": "stdout",
          "output_type": "stream",
          "text": [
            "Enter captcha text : twitter\n"
          ]
        },
        {
          "output_type": "execute_result",
          "data": {
            "text/plain": [
              "<PIL.PngImagePlugin.PngImageFile image mode=RGB size=300x100 at 0x7F285BCF8750>"
            ],
            "image/png": "[encoded data removed]"
          },
          "metadata": {},
          "execution_count": 8
        }
      ]
    },
    {
      "cell_type": "markdown",
      "source": [
        "# Screenshoot"
      ],
      "metadata": {
        "id": "TKLah-KoQnyD"
      }
    },
    {
      "cell_type": "code",
      "source": [
        "#pip install pyautogui\n",
        "import pyautogui\n",
        "\n",
        "myScreenshot = pyautogui.screenshot()\n",
        "myScreenshot.save(r'D:\\online.png')"
      ],
      "metadata": {
        "id": "LlzBetpGPO13"
      },
      "execution_count": null,
      "outputs": []
    },
    {
      "cell_type": "markdown",
      "source": [
        "# Download PDF"
      ],
      "metadata": {
        "id": "PNgk-__SSLQ-"
      }
    },
    {
      "cell_type": "code",
      "source": [
        "import urllib.request\n",
        "\n",
        "url = input('Enter Link to Dwnload PDF : ')\n",
        "name = input('Enter Name for PDF file : ')\n",
        "filename = name+'.pdf'\n",
        "\n",
        "urllib.request.urlretrieve(url, filename)\n"
      ],
      "metadata": {
        "id": "PhfbOnqzQsjt"
      },
      "execution_count": null,
      "outputs": []
    },
    {
      "cell_type": "markdown",
      "source": [
        "# Web Browser Python"
      ],
      "metadata": {
        "id": "ACyEtIx5acNV"
      }
    },
    {
      "cell_type": "code",
      "source": [
        "import webbrowser\n",
        "\n",
        "url = input('Enter url : ')\n",
        "\n",
        "webbrowser.open(url)\n",
        "webbrowser.open_new('url') #open new browser\n",
        "webbrowser.open_new_tab('url') #open new tab"
      ],
      "metadata": {
        "id": "abmQsXpYSQKM"
      },
      "execution_count": null,
      "outputs": []
    },
    {
      "cell_type": "markdown",
      "source": [
        "# Unzip Files Python"
      ],
      "metadata": {
        "id": "SeBXQarKclkr"
      }
    },
    {
      "cell_type": "code",
      "source": [
        "from zipfile import ZipFile\n",
        "\n",
        "with ZipFile('namafile.zip', 'r') as zip_object:\n",
        "  zip_object.extractall()\n",
        "\n",
        "print(zip_object.namelist())"
      ],
      "metadata": {
        "id": "5MqxOkhKahRw"
      },
      "execution_count": null,
      "outputs": []
    },
    {
      "cell_type": "markdown",
      "source": [
        "# url shortener"
      ],
      "metadata": {
        "id": "l1MM9TDrebTY"
      }
    },
    {
      "cell_type": "code",
      "source": [
        "#pip install pyshorteners\n",
        "\n",
        "import pyshorteners\n",
        "long_url = input('Enter the UEL to shorten :')\n",
        "\n",
        "type_tiny = pyshorteners.Shortener()\n",
        "short_url = type_tiny.tinyurl.short(long_url)\n",
        "\n",
        "print('The shortened url is : ' + short_url)"
      ],
      "metadata": {
        "colab": {
          "base_uri": "https://localhost:8080/"
        },
        "id": "RawoCi0IcqUx",
        "outputId": "f47a6a43-9098-4d6f-b481-102a200593d0"
      },
      "execution_count": null,
      "outputs": [
        {
          "output_type": "stream",
          "name": "stdout",
          "text": [
            "Enter the UEL to shorten :https://www.geeksforgeeks.org/generate-captcha-using-python/\n",
            "The shortened url is : https://tinyurl.com/2ogtnln6\n"
          ]
        }
      ]
    },
    {
      "cell_type": "markdown",
      "source": [
        "# Create Audiobook Python"
      ],
      "metadata": {
        "id": "N9w9AVZViDwg"
      }
    },
    {
      "cell_type": "code",
      "source": [
        "#pip install PyPDF2\n",
        "#pip install pyttsx3\n",
        "\n",
        "import PyPDF2\n",
        "import pyttsx3\n",
        "\n",
        "pdfReader = PyPDF2.PdfFileReader(open('nama.pdf', 'rb'))\n",
        "\n",
        "speaker = pyttsx3.init()\n",
        "\n",
        "for page_num in range(pdfReader.numPages):\n",
        "  text = pdfReader.getPage(page_num).extractText()\n",
        "  speaker.say(text)\n",
        "  speaker.runAndWait()\n",
        "\n",
        "speaker.stop()\n",
        "\n",
        "pyttsx3.Engine.save_to_file(text, 'E:\\audio.mp3')\n",
        "pyttsx3.Engine.runAndWait()\n"
      ],
      "metadata": {
        "colab": {
          "base_uri": "https://localhost:8080/"
        },
        "id": "DQawZrc1eoW-",
        "outputId": "2042817d-8b81-4af8-d992-ee5fb29f81a6"
      },
      "execution_count": null,
      "outputs": [
        {
          "output_type": "stream",
          "name": "stdout",
          "text": [
            "Looking in indexes: https://pypi.org/simple, https://us-python.pkg.dev/colab-wheels/public/simple/\n",
            "Collecting pyttsx3\n",
            "  Downloading pyttsx3-2.90-py3-none-any.whl (39 kB)\n",
            "Installing collected packages: pyttsx3\n",
            "Successfully installed pyttsx3-2.90\n"
          ]
        }
      ]
    },
    {
      "cell_type": "markdown",
      "source": [
        "# Image Wateemark"
      ],
      "metadata": {
        "id": "B2bAPcjakVyw"
      }
    },
    {
      "cell_type": "code",
      "source": [
        "from PIL import Image, ImageDraw, ImageFont\n",
        "\n",
        "img = Image.open('nama.jpg')\n",
        "draw = ImageDraw.Draw(img)\n",
        "text = 'komputive'\n",
        "font = ImageFont.truetype('arial.ttf', 50)\n",
        "textwidth, textheight = draw.textsize(text, font)\n",
        "width, height = img.size\n",
        "\n",
        "x = width/2-textwidth/2\n",
        "y = height-textheight-50\n",
        "\n",
        "draw.text((x,y), text, font=font)\n",
        "img.save(r'image.png')\n",
        "Image.open('image.png')"
      ],
      "metadata": {
        "id": "wajshQx0iK35"
      },
      "execution_count": null,
      "outputs": []
    },
    {
      "cell_type": "markdown",
      "source": [
        "# Convert decimal into number python"
      ],
      "metadata": {
        "id": "pWGujAVZgmCM"
      }
    },
    {
      "cell_type": "code",
      "source": [
        "dec = int(input('Enter number decimal : '))\n",
        "\n",
        "print(bin(dec), 'in Binary') #decimal to binary\n",
        "\n",
        "print(oct(dec), 'in Octal') # decimal to ocatal\n",
        "\n",
        "print(hex(dec), 'in hexadecimal') # decimal to hexadecimal"
      ],
      "metadata": {
        "colab": {
          "base_uri": "https://localhost:8080/"
        },
        "id": "vlmwVfbvGAqi",
        "outputId": "ed41c120-a3cc-426a-adca-62e156b9b703"
      },
      "execution_count": 2,
      "outputs": [
        {
          "output_type": "stream",
          "name": "stdout",
          "text": [
            "Enter number decimal : 140\n",
            "0b10001100 in Binary\n",
            "0o214 in Octal\n",
            "0x8c in hexadecimal\n"
          ]
        }
      ]
    }
  ]
}