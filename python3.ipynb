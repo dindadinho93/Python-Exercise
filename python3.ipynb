{
  "nbformat": 4,
  "nbformat_minor": 0,
  "metadata": {
    "colab": {
      "name": "python3.ipynb",
      "provenance": [],
      "authorship_tag": "ABX9TyMlrY8wlzEqRv1Wk5vfSh/7",
      "include_colab_link": true
    },
    "kernelspec": {
      "name": "python3",
      "display_name": "Python 3"
    },
    "language_info": {
      "name": "python"
    }
  },
  "cells": [
    {
      "cell_type": "markdown",
      "metadata": {
        "id": "view-in-github",
        "colab_type": "text"
      },
      "source": [
        "<a href=\"https://colab.research.google.com/github/dindadinho93/Python-Exercise/blob/main/python3.ipynb\" target=\"_parent\"><img src=\"https://colab.research.google.com/assets/colab-badge.svg\" alt=\"Open In Colab\"/></a>"
      ]
    },
    {
      "cell_type": "markdown",
      "source": [
        "# Count Character Coocurence"
      ],
      "metadata": {
        "id": "z485EaILmGsJ"
      }
    },
    {
      "cell_type": "code",
      "execution_count": null,
      "metadata": {
        "colab": {
          "base_uri": "https://localhost:8080/"
        },
        "id": "94FSmC22mELA",
        "outputId": "4afffbee-0052-4091-90fd-69bcc3ad8f88"
      },
      "outputs": [
        {
          "output_type": "stream",
          "name": "stdout",
          "text": [
            "Enter word in String : adalah\n",
            "{'a': 3, 'd': 1, 'l': 1, 'h': 1}\n"
          ]
        }
      ],
      "source": [
        "def count_character(s):\n",
        "  count = {}\n",
        "  for i in s:\n",
        "    if i in count:\n",
        "      count[i] +=1\n",
        "    else:\n",
        "      count[i] = 1\n",
        "  print(count)\n",
        "\n",
        "word = input('Enter word in String : ')\n",
        "count_character(word)"
      ]
    },
    {
      "cell_type": "markdown",
      "source": [
        "# Palindrome Python"
      ],
      "metadata": {
        "id": "qdgMvzmpqz6l"
      }
    },
    {
      "cell_type": "code",
      "source": [
        "def palindrome(sentence):\n",
        "  for i in (\",.'?/><}{{}}'\"):\n",
        "    sentence = sentence.replace(i, \"\")\n",
        "  palindrome = []\n",
        "  words = sentence.split(' ')\n",
        "  for word in words:\n",
        "    word = word.lower()\n",
        "    if word == word[::-1]:\n",
        "      palindrome.append(word)\n",
        "  return palindrome\n",
        "\n",
        "sentence = input('Enter a sentences : ')\n",
        "print(palindrome(sentence))"
      ],
      "metadata": {
        "colab": {
          "base_uri": "https://localhost:8080/"
        },
        "id": "lpkbhnV4q5e_",
        "outputId": "582e5ee6-a7ec-4b34-c751-17505a153019"
      },
      "execution_count": null,
      "outputs": [
        {
          "output_type": "stream",
          "name": "stdout",
          "text": [
            "Enter a sentences : mom support me a lot lol rmol\n",
            "['mom', 'a', 'lol']\n"
          ]
        }
      ]
    },
    {
      "cell_type": "markdown",
      "source": [
        "# Age Calculator Python"
      ],
      "metadata": {
        "id": "wX2FSmoKvoaD"
      }
    },
    {
      "cell_type": "code",
      "source": [
        "def ageCalculator(y, m, d):\n",
        "  import datetime\n",
        "  today = datetime.datetime.now().date()\n",
        "  dob = datetime.date(y,m,d)\n",
        "  age = int((today-dob).days/365.25)\n",
        "  print('Umurmu adalah : ', age)\n",
        "\n",
        "y = int(input(\"Enter Birth year : \"))\n",
        "m = int(input(\"Enter Birth month : \"))\n",
        "d = int(input(\"Enter Birth Date : \"))\n",
        "\n",
        "ageCalculator(y,m,d)"
      ],
      "metadata": {
        "colab": {
          "base_uri": "https://localhost:8080/"
        },
        "id": "ol2EDtTEvm9w",
        "outputId": "0dccf880-10c7-45db-8ba0-323fbc55d576"
      },
      "execution_count": null,
      "outputs": [
        {
          "output_type": "stream",
          "name": "stdout",
          "text": [
            "Enter Birth year : 1992\n",
            "Enter Birth month : 2\n",
            "Enter Birth Date : 11\n",
            "Umurmu adalah :  30\n"
          ]
        }
      ]
    },
    {
      "cell_type": "markdown",
      "source": [
        "# Validasi Anagram"
      ],
      "metadata": {
        "id": "jQS0VLnIeo5m"
      }
    },
    {
      "cell_type": "code",
      "source": [
        "def anagram(word1, word2):\n",
        "  word1 = word1.lower()\n",
        "  word2 = word2.lower()\n",
        "  return sorted(word1) == sorted(word2)\n",
        "\n",
        "print(anagram('nokia', 'kiano'))"
      ],
      "metadata": {
        "id": "EmQKdpl0vtoD",
        "colab": {
          "base_uri": "https://localhost:8080/"
        },
        "outputId": "7febd14c-cba0-4d2f-e168-97020118ba1a"
      },
      "execution_count": 1,
      "outputs": [
        {
          "output_type": "stream",
          "name": "stdout",
          "text": [
            "True\n"
          ]
        }
      ]
    },
    {
      "cell_type": "markdown",
      "source": [
        "# Segitiga Pascal"
      ],
      "metadata": {
        "id": "UbDcigi4h8Rg"
      }
    },
    {
      "cell_type": "code",
      "source": [
        "def printPascal(n):\n",
        "  arr =[1]\n",
        "  temp = []\n",
        "  print('segitiga pascal', n, 'baris')\n",
        "  for i in range(n):\n",
        "    print('rows', i+1, end=\" : \")\n",
        "    for j in range(len(arr)):\n",
        "      print(arr[j], end=' ')\n",
        "    print()\n",
        "    temp.append(1)\n",
        "    for j in range(len(arr)-1):\n",
        "      temp.append(arr[j]+arr[j+1])\n",
        "    temp.append(1)\n",
        "    arr = temp\n",
        "    temp = []\n",
        "\n",
        "n = int(input('Enter number n : '))\n",
        "printPascal(n)"
      ],
      "metadata": {
        "colab": {
          "base_uri": "https://localhost:8080/"
        },
        "id": "9g4sUKdjiAhL",
        "outputId": "b0beae94-9860-47f3-a50b-468f90eeff0a"
      },
      "execution_count": 8,
      "outputs": [
        {
          "output_type": "stream",
          "name": "stdout",
          "text": [
            "Enter number n : 5\n",
            "segitiga pascal 5 baris\n",
            "rows 1 : 1 \n",
            "rows 2 : 1 1 \n",
            "rows 3 : 1 2 1 \n",
            "rows 4 : 1 3 3 1 \n",
            "rows 5 : 1 4 6 4 1 \n"
          ]
        }
      ]
    },
    {
      "cell_type": "markdown",
      "source": [
        "# Diamond pattern"
      ],
      "metadata": {
        "id": "0oeniloNpnYw"
      }
    },
    {
      "cell_type": "code",
      "source": [
        "rows = int(input('Enter diamond pattern : '))\n",
        "print('Diamond star')\n",
        "for i in range(1, rows +1):\n",
        "  for j in range(1, rows-i+1):\n",
        "    print(end = ' ')\n",
        "  for k in range(0, 2*i-1):\n",
        "    print('*', end ='')\n",
        "  print()\n",
        "for i in range(1, rows):\n",
        "  for j in range(1, i+1):\n",
        "    print(end=' ')\n",
        "  for l in range(1,(2*(rows-i))):\n",
        "    print('^', end='')\n",
        "  print()"
      ],
      "metadata": {
        "colab": {
          "base_uri": "https://localhost:8080/"
        },
        "id": "u-hHGqPNpqz_",
        "outputId": "79c66d67-e720-4f8d-c6a6-69be20b32dde"
      },
      "execution_count": 10,
      "outputs": [
        {
          "output_type": "stream",
          "name": "stdout",
          "text": [
            "Enter diamond pattern : 5\n",
            "Diamond star\n",
            "    *\n",
            "   ***\n",
            "  *****\n",
            " *******\n",
            "*********\n",
            " ^^^^^^^\n",
            "  ^^^^^\n",
            "   ^^^\n",
            "    ^\n"
          ]
        }
      ]
    },
    {
      "cell_type": "markdown",
      "source": [
        "# selection sort"
      ],
      "metadata": {
        "id": "6a2qADqGsAZA"
      }
    },
    {
      "cell_type": "code",
      "source": [
        "def selectionSort(List):\n",
        "  for i in range(len(List)-1):\n",
        "    minimum = i\n",
        "    for j in range(i+1, len(List)):\n",
        "      if(List[j]< List[minimum]):\n",
        "        minimum = j\n",
        "    if(minimum != i):\n",
        "      List[i], List[minimum] = List[minimum], List[i]\n",
        "  return List\n",
        "\n",
        "if __name__ == '__main__':\n",
        "  List = [4,5,2,87,11,5,1]\n",
        "  print('Sorted List : ', selectionSort(List))"
      ],
      "metadata": {
        "colab": {
          "base_uri": "https://localhost:8080/"
        },
        "id": "-FT0_2mpsDy1",
        "outputId": "d3f23f97-04b2-4971-8fdc-c4ab5726dd41"
      },
      "execution_count": 16,
      "outputs": [
        {
          "output_type": "stream",
          "name": "stdout",
          "text": [
            "Sorted List :  [1, 2, 4, 5, 5, 11, 87]\n"
          ]
        }
      ]
    },
    {
      "cell_type": "markdown",
      "source": [
        "# Bubble sort"
      ],
      "metadata": {
        "id": "7QBevYjd0ffE"
      }
    },
    {
      "cell_type": "code",
      "source": [
        "def bubbleSort(List):\n",
        "  for i in range(len(List)):\n",
        "    for j in range(len(List) - 1, i, -1):\n",
        "      if List[j] < List[j-1]:\n",
        "        List[j], List[j-1] = List[j-1], List[j]\n",
        "  return List\n",
        "\n",
        "if __name__ == '__main__':\n",
        "  List = [4,5,2,87,11,5,1]\n",
        "  print('Sorted List : ', bubbleSort(List))"
      ],
      "metadata": {
        "colab": {
          "base_uri": "https://localhost:8080/"
        },
        "id": "1LXqKjb40i2b",
        "outputId": "e5ba14c4-35d7-46c8-bf4d-c18aa13c4c93"
      },
      "execution_count": 19,
      "outputs": [
        {
          "output_type": "stream",
          "name": "stdout",
          "text": [
            "Sorted List :  [1, 2, 4, 5, 5, 11, 87]\n"
          ]
        }
      ]
    },
    {
      "cell_type": "markdown",
      "source": [
        "# Insertion sort"
      ],
      "metadata": {
        "id": "-tzWaXfL1rOq"
      }
    },
    {
      "cell_type": "code",
      "source": [
        "def insertionSort(List):\n",
        "  for i in range(1, len(List)):\n",
        "    currentNumber = List[i]\n",
        "    for j in range(i-1, -1, -1):\n",
        "      if List[j] > currentNumber:\n",
        "        List[j], List[j+1] = List[j+1], List[j]\n",
        "      else:\n",
        "        List[j+1] = currentNumber\n",
        "        break\n",
        "  return List\n",
        "\n",
        "if __name__ == '__main__':\n",
        "  List = [4,5,2,87,11,5,1]\n",
        "  print('Sorted List : ', insertionSort(List))"
      ],
      "metadata": {
        "colab": {
          "base_uri": "https://localhost:8080/"
        },
        "id": "5I2uVXOs1t7-",
        "outputId": "7afefada-7656-4bd3-9dd3-1568c396e094"
      },
      "execution_count": 20,
      "outputs": [
        {
          "output_type": "stream",
          "name": "stdout",
          "text": [
            "Sorted List :  [1, 2, 4, 5, 5, 11, 87]\n"
          ]
        }
      ]
    },
    {
      "cell_type": "markdown",
      "source": [
        "# Assign value"
      ],
      "metadata": {
        "id": "ZFM9ENUaXt5P"
      }
    },
    {
      "cell_type": "code",
      "source": [
        "val = {'a':1, 'b':2, 'c':5, 'd':8}\n",
        "\n",
        "val ['a'] = 2\n",
        "val ['b'] = 4\n",
        "\n",
        "print(val)"
      ],
      "metadata": {
        "colab": {
          "base_uri": "https://localhost:8080/"
        },
        "id": "AeuRS3XyXzfe",
        "outputId": "06a5037d-ef45-4317-dbc6-316e6d7ebdca"
      },
      "execution_count": 1,
      "outputs": [
        {
          "output_type": "stream",
          "name": "stdout",
          "text": [
            "{'a': 2, 'b': 4, 'c': 5, 'd': 8}\n"
          ]
        }
      ]
    },
    {
      "cell_type": "markdown",
      "source": [
        "# Fibonacchi"
      ],
      "metadata": {
        "id": "JhwxX1xcYXrw"
      }
    },
    {
      "cell_type": "code",
      "source": [
        "nterm = int(input('Enter term of Fibonachhi :'))\n",
        "n1, n2 = 0, 1\n",
        "\n",
        "count =0\n",
        "\n",
        "if(nterm<=0):\n",
        "  print('please enter positif number')\n",
        "elif (nterm == 1):\n",
        "  print(n1)\n",
        "else:\n",
        "  print('Fibonachi :', end=' ')\n",
        "  while(count<nterm):\n",
        "    print(n1, end=' ')\n",
        "    nth = n1 + n2\n",
        "    n1 = n2\n",
        "    n2 = nth\n",
        "    count +=1"
      ],
      "metadata": {
        "colab": {
          "base_uri": "https://localhost:8080/"
        },
        "id": "SzwA6v6PYWiM",
        "outputId": "00825bff-027b-425b-d3f4-b468914d97e7"
      },
      "execution_count": 3,
      "outputs": [
        {
          "output_type": "stream",
          "name": "stdout",
          "text": [
            "Enter term of Fibonachhi :6\n",
            "Fibonachi : 0 1 1 2 3 5 "
          ]
        }
      ]
    },
    {
      "cell_type": "markdown",
      "source": [
        "# Factor numbers"
      ],
      "metadata": {
        "id": "0fxVRQBYdSQ-"
      }
    },
    {
      "cell_type": "code",
      "source": [
        "def printFactor(x):\n",
        "  print('Faktor dari',x, 'adalah :')\n",
        "  for i in range(1, x+1):\n",
        "    if x % i ==0:\n",
        "      print(i, end=', ')\n",
        "\n",
        "number = int(input('Enter a number Factor : '))\n",
        "printFactor(number)"
      ],
      "metadata": {
        "colab": {
          "base_uri": "https://localhost:8080/"
        },
        "id": "1wCewUE2dR4p",
        "outputId": "eefa47e3-1132-4372-e42d-bca28df1d4b0"
      },
      "execution_count": 6,
      "outputs": [
        {
          "output_type": "stream",
          "name": "stdout",
          "text": [
            "Enter a number Factor : 50\n",
            "Faktor dari 50 adalah :\n",
            "1, 2, 5, 10, 25, 50, "
          ]
        }
      ]
    },
    {
      "cell_type": "markdown",
      "source": [
        "# Faktorial number"
      ],
      "metadata": {
        "id": "sQwYXDdae5B5"
      }
    },
    {
      "cell_type": "code",
      "source": [
        "def factorial(num):\n",
        "  factor = 1\n",
        "\n",
        "\n",
        "  if(num<=0):\n",
        "    print('factorial tidak boleh minus atau 0')\n",
        "  else:\n",
        "    for i in range(1, num +1):\n",
        "      print(i, end=\"* \")\n",
        "      factor = factor*i\n",
        "    print(' : ',factor)\n",
        "\n",
        "num = int(input('Enter a number : '))\n",
        "factorial(num)"
      ],
      "metadata": {
        "colab": {
          "base_uri": "https://localhost:8080/"
        },
        "id": "MF1d7d40e8al",
        "outputId": "c664ac2a-40e9-4be7-884b-eac448888355"
      },
      "execution_count": 13,
      "outputs": [
        {
          "output_type": "stream",
          "name": "stdout",
          "text": [
            "Enter a number : 6\n",
            "1* 2* 3* 4* 5* 6*  :  720\n"
          ]
        }
      ]
    }
  ]
}