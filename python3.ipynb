{
  "nbformat": 4,
  "nbformat_minor": 0,
  "metadata": {
    "colab": {
      "name": "python3.ipynb",
      "provenance": [],
      "authorship_tag": "ABX9TyP0hEEKN1Ga+/PrALtidFvH",
      "include_colab_link": true
    },
    "kernelspec": {
      "name": "python3",
      "display_name": "Python 3"
    },
    "language_info": {
      "name": "python"
    }
  },
  "cells": [
    {
      "cell_type": "markdown",
      "metadata": {
        "id": "view-in-github",
        "colab_type": "text"
      },
      "source": [
        "<a href=\"https://colab.research.google.com/github/dindadinho93/Python-Exercise/blob/main/python3.ipynb\" target=\"_parent\"><img src=\"https://colab.research.google.com/assets/colab-badge.svg\" alt=\"Open In Colab\"/></a>"
      ]
    },
    {
      "cell_type": "markdown",
      "source": [
        "# Count Character Coocurence"
      ],
      "metadata": {
        "id": "z485EaILmGsJ"
      }
    },
    {
      "cell_type": "code",
      "execution_count": 2,
      "metadata": {
        "colab": {
          "base_uri": "https://localhost:8080/"
        },
        "id": "94FSmC22mELA",
        "outputId": "4afffbee-0052-4091-90fd-69bcc3ad8f88"
      },
      "outputs": [
        {
          "output_type": "stream",
          "name": "stdout",
          "text": [
            "Enter word in String : adalah\n",
            "{'a': 3, 'd': 1, 'l': 1, 'h': 1}\n"
          ]
        }
      ],
      "source": [
        "def count_character(s):\n",
        "  count = {}\n",
        "  for i in s:\n",
        "    if i in count:\n",
        "      count[i] +=1\n",
        "    else:\n",
        "      count[i] = 1\n",
        "  print(count)\n",
        "\n",
        "word = input('Enter word in String : ')\n",
        "count_character(word)"
      ]
    },
    {
      "cell_type": "markdown",
      "source": [
        "# Palindrome Python"
      ],
      "metadata": {
        "id": "qdgMvzmpqz6l"
      }
    },
    {
      "cell_type": "code",
      "source": [
        "def palindrome(sentence):\n",
        "  for i in (\",.'?/><}{{}}'\"):\n",
        "    sentence = sentence.replace(i, \"\")\n",
        "  palindrome = []\n",
        "  words = sentence.split(' ')\n",
        "  for word in words:\n",
        "    word = word.lower()\n",
        "    if word == word[::-1]:\n",
        "      palindrome.append(word)\n",
        "  return palindrome\n",
        "\n",
        "sentence = input('Enter a sentences : ')\n",
        "print(palindrome(sentence))"
      ],
      "metadata": {
        "colab": {
          "base_uri": "https://localhost:8080/"
        },
        "id": "lpkbhnV4q5e_",
        "outputId": "582e5ee6-a7ec-4b34-c751-17505a153019"
      },
      "execution_count": 3,
      "outputs": [
        {
          "output_type": "stream",
          "name": "stdout",
          "text": [
            "Enter a sentences : mom support me a lot lol rmol\n",
            "['mom', 'a', 'lol']\n"
          ]
        }
      ]
    },
    {
      "cell_type": "markdown",
      "source": [
        "# Age Calculator Python"
      ],
      "metadata": {
        "id": "wX2FSmoKvoaD"
      }
    },
    {
      "cell_type": "code",
      "source": [
        "def ageCalculator(y, m, d):\n",
        "  import datetime\n",
        "  today = datetime.datetime.now().date()\n",
        "  dob = datetime.date(y,m,d)\n",
        "  age = int((today-dob).days/365.25)\n",
        "  print('Umurmu adalah : ', age)\n",
        "\n",
        "y = int(input(\"Enter Birth year : \"))\n",
        "m = int(input(\"Enter Birth month : \"))\n",
        "d = int(input(\"Enter Birth Date : \"))\n",
        "\n",
        "ageCalculator(y,m,d)"
      ],
      "metadata": {
        "colab": {
          "base_uri": "https://localhost:8080/"
        },
        "id": "ol2EDtTEvm9w",
        "outputId": "0dccf880-10c7-45db-8ba0-323fbc55d576"
      },
      "execution_count": 4,
      "outputs": [
        {
          "output_type": "stream",
          "name": "stdout",
          "text": [
            "Enter Birth year : 1992\n",
            "Enter Birth month : 2\n",
            "Enter Birth Date : 11\n",
            "Umurmu adalah :  30\n"
          ]
        }
      ]
    },
    {
      "cell_type": "code",
      "source": [],
      "metadata": {
        "id": "EmQKdpl0vtoD"
      },
      "execution_count": null,
      "outputs": []
    }
  ]
}